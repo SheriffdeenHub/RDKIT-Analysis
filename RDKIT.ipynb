{
  "nbformat": 4,
  "nbformat_minor": 0,
  "metadata": {
    "colab": {
      "provenance": [],
      "authorship_tag": "ABX9TyNByc5ASx6LXD2ygN8yzQq8",
      "include_colab_link": true
    },
    "kernelspec": {
      "name": "python3",
      "display_name": "Python 3"
    },
    "language_info": {
      "name": "python"
    }
  },
  "cells": [
    {
      "cell_type": "markdown",
      "metadata": {
        "id": "view-in-github",
        "colab_type": "text"
      },
      "source": [
        "<a href=\"https://colab.research.google.com/github/SheriffdeenHub/RDKIT-Analysis/blob/main/RDKIT.ipynb\" target=\"_parent\"><img src=\"https://colab.research.google.com/assets/colab-badge.svg\" alt=\"Open In Colab\"/></a>"
      ]
    },
    {
      "cell_type": "code",
      "execution_count": null,
      "metadata": {
        "colab": {
          "base_uri": "https://localhost:8080/"
        },
        "id": "kWrnLWti0Qkv",
        "outputId": "34de92eb-cad5-4ed3-a0af-78fe1fadd2c8"
      },
      "outputs": [
        {
          "output_type": "stream",
          "name": "stdout",
          "text": [
            "Collecting rdkit\n",
            "  Downloading rdkit-2024.9.4-cp310-cp310-manylinux_2_28_x86_64.whl.metadata (4.0 kB)\n",
            "Requirement already satisfied: numpy in /usr/local/lib/python3.10/dist-packages (from rdkit) (1.26.4)\n",
            "Requirement already satisfied: Pillow in /usr/local/lib/python3.10/dist-packages (from rdkit) (11.1.0)\n",
            "Downloading rdkit-2024.9.4-cp310-cp310-manylinux_2_28_x86_64.whl (34.2 MB)\n",
            "\u001b[2K   \u001b[90m━━━━━━━━━━━━━━━━━━━━━━━━━━━━━━━━━━━━━━━━\u001b[0m \u001b[32m34.2/34.2 MB\u001b[0m \u001b[31m29.7 MB/s\u001b[0m eta \u001b[36m0:00:00\u001b[0m\n",
            "\u001b[?25hInstalling collected packages: rdkit\n",
            "Successfully installed rdkit-2024.9.4\n"
          ]
        }
      ],
      "source": [
        "!pip install rdkit"
      ]
    },
    {
      "cell_type": "code",
      "source": [
        "from rdkit import Chem\n",
        "from rdkit.Chem import Draw"
      ],
      "metadata": {
        "colab": {
          "base_uri": "https://localhost:8080/",
          "height": 106
        },
        "id": "J74wuLqQ0YTf",
        "outputId": "0f83314a-75b7-4f14-a7ca-d6d32a5b9fa4"
      },
      "execution_count": null,
      "outputs": [
        {
          "output_type": "error",
          "ename": "SyntaxError",
          "evalue": "invalid non-printable character U+00A0 (<ipython-input-2-25b5e1372abb>, line 2)",
          "traceback": [
            "\u001b[0;36m  File \u001b[0;32m\"<ipython-input-2-25b5e1372abb>\"\u001b[0;36m, line \u001b[0;32m2\u001b[0m\n\u001b[0;31m    from rdkit.Chem import Draw\u001b[0m\n\u001b[0m                          ^\u001b[0m\n\u001b[0;31mSyntaxError\u001b[0m\u001b[0;31m:\u001b[0m invalid non-printable character U+00A0\n"
          ]
        }
      ]
    },
    {
      "cell_type": "code",
      "source": [
        "from rdkit import Chem\n",
        "from rdkit.Chem import Draw"
      ],
      "metadata": {
        "id": "uIVrzJ920knS"
      },
      "execution_count": null,
      "outputs": []
    },
    {
      "cell_type": "code",
      "source": [
        "smiles = \"CCO\"  # Ethanol\n",
        "molecule = Chem.MolFromSmiles(smiles)\n",
        "print(molecule)\n",
        "Draw.MolToImage(molecule)"
      ],
      "metadata": {
        "colab": {
          "base_uri": "https://localhost:8080/",
          "height": 334
        },
        "id": "S4sZWt6E0uYA",
        "outputId": "ae2ec59c-7f0a-4c1f-a064-95a6308ad728"
      },
      "execution_count": null,
      "outputs": [
        {
          "output_type": "stream",
          "name": "stdout",
          "text": [
            "<rdkit.Chem.rdchem.Mol object at 0x79b9fde87840>\n"
          ]
        },
        {
          "output_type": "execute_result",
          "data": {
            "text/plain": [
              "<PIL.PngImagePlugin.PngImageFile image mode=RGB size=300x300>"
            ],
            "image/png": "[encoded data removed]",
            "image/jpeg": "[encoded data removed]"
          },
          "metadata": {},
          "execution_count": 4
        }
      ]
    },
    {
      "cell_type": "code",
      "source": [
        "smiles = \"CC1=CC(=CC2=C1C(=C3C(=CC4=CC(=O)C=C(C4=C3O)O)O2)O)O\"  # Ethanol\n",
        "molecule = Chem.MolFromSmiles(smiles)\n",
        "print(molecule)\n",
        "Draw.MolToImage(molecule)"
      ],
      "metadata": {
        "colab": {
          "base_uri": "https://localhost:8080/",
          "height": 334
        },
        "id": "1CmGNE7r09a_",
        "outputId": "60e686a1-25c7-4b6d-8c24-adb2b8ae38f7"
      },
      "execution_count": null,
      "outputs": [
        {
          "output_type": "stream",
          "name": "stdout",
          "text": [
            "<rdkit.Chem.rdchem.Mol object at 0x79b9fde878b0>\n"
          ]
        },
        {
          "output_type": "execute_result",
          "data": {
            "text/plain": [
              "<PIL.PngImagePlugin.PngImageFile image mode=RGB size=300x300>"
            ],
            "image/png": "[encoded data removed]",
            "image/jpeg": "[encoded data removed]"
          },
          "metadata": {},
          "execution_count": 5
        }
      ]
    },
    {
      "cell_type": "code",
      "source": [
        "from rdkit.Chem import Descriptors\n",
        "\n",
        "mol_weight = Descriptors.MolWt(molecule)\n",
        "log_p = Descriptors.MolLogP(molecule)\n",
        "\n",
        "print(f\"Molecular Weight: {mol_weight}\")\n",
        "print(f\"LogP: {log_p}\")"
      ],
      "metadata": {
        "colab": {
          "base_uri": "https://localhost:8080/"
        },
        "id": "hj3IEca51unD",
        "outputId": "8f47a3ca-e461-4921-dcda-53777bbf6138"
      },
      "execution_count": null,
      "outputs": [
        {
          "output_type": "stream",
          "name": "stdout",
          "text": [
            "Molecular Weight: 324.288\n",
            "LogP: 3.2302200000000023\n"
          ]
        }
      ]
    },
    {
      "cell_type": "code",
      "source": [
        "from rdkit import Chem\n",
        "from rdkit.Chem import Descriptors\n",
        "\n",
        "# Create a molecule\n",
        "smiles = \"CCO\"  # Ethanol\n",
        "molecule = Chem.MolFromSmiles(smiles)\n",
        "\n",
        "# Calculate molecular properties\n",
        "mol_weight = Descriptors.MolWt(molecule)\n",
        "num_atoms = molecule.GetNumAtoms()\n",
        "\n",
        "print(f\"Molecular Weight: {mol_weight}\")\n",
        "print(f\"Number of Atoms: {num_atoms}\")"
      ],
      "metadata": {
        "colab": {
          "base_uri": "https://localhost:8080/"
        },
        "id": "r8q_gS9812zc",
        "outputId": "7934cecc-fbd8-405a-f060-613f2ed43edf"
      },
      "execution_count": null,
      "outputs": [
        {
          "output_type": "stream",
          "name": "stdout",
          "text": [
            "Molecular Weight: 46.069\n",
            "Number of Atoms: 3\n"
          ]
        }
      ]
    },
    {
      "cell_type": "code",
      "source": [
        "!pip install pubchempy\n",
        "import pubchempy as pcp"
      ],
      "metadata": {
        "colab": {
          "base_uri": "https://localhost:8080/"
        },
        "id": "8SdbQ0FK2pKO",
        "outputId": "32481e4e-f1d9-49b3-cd14-bcc10958321e"
      },
      "execution_count": null,
      "outputs": [
        {
          "output_type": "stream",
          "name": "stdout",
          "text": [
            "Collecting pubchempy\n",
            "  Downloading PubChemPy-1.0.4.tar.gz (29 kB)\n",
            "  Preparing metadata (setup.py) ... \u001b[?25l\u001b[?25hdone\n",
            "Building wheels for collected packages: pubchempy\n",
            "  Building wheel for pubchempy (setup.py) ... \u001b[?25l\u001b[?25hdone\n",
            "  Created wheel for pubchempy: filename=PubChemPy-1.0.4-py3-none-any.whl size=13819 sha256=70f299e82e261952ee127dd5b5172bb8310f47cca13c02a350d7b4120cd6094b\n",
            "  Stored in directory: /root/.cache/pip/wheels/90/7c/45/18a0671e3c3316966ef7ed9ad2b3f3300a7e41d3421a44e799\n",
            "Successfully built pubchempy\n",
            "Installing collected packages: pubchempy\n",
            "Successfully installed pubchempy-1.0.4\n"
          ]
        }
      ]
    },
    {
      "cell_type": "code",
      "source": [
        "import pubchempy as pcp\n",
        "from rdkit import Chem\n",
        "from rdkit.Chem import Draw\n",
        "\n",
        "# Fetch molecule from PubChem\n",
        "compound_name = \"Paracetamol\"\n",
        "compound = pcp.get_compounds(compound_name, 'name')[0]\n",
        "smiles = compound.canonical_smiles\n",
        "print(f\"SMILES for {compound_name}: {smiles}\")\n",
        "\n",
        "# Create and visualize the molecule\n",
        "molecule = Chem.MolFromSmiles(smiles)\n",
        "Draw.MolToImage(molecule)"
      ],
      "metadata": {
        "colab": {
          "base_uri": "https://localhost:8080/",
          "height": 334
        },
        "id": "kOZeomlX4SPf",
        "outputId": "1b1ac338-075a-4d0d-c914-09aa6db8e003"
      },
      "execution_count": null,
      "outputs": [
        {
          "output_type": "stream",
          "name": "stdout",
          "text": [
            "SMILES for Paracetamol: CC(=O)NC1=CC=C(C=C1)O\n"
          ]
        },
        {
          "output_type": "execute_result",
          "data": {
            "text/plain": [
              "<PIL.PngImagePlugin.PngImageFile image mode=RGB size=300x300>"
            ],
            "image/png": "[encoded data removed]",
            "image/jpeg": "[encoded data removed]"
          },
          "metadata": {},
          "execution_count": 10
        }
      ]
    },
    {
      "cell_type": "code",
      "source": [
        "import pubchempy as pcp\n",
        "from rdkit import Chem\n",
        "from rdkit.Chem import Draw\n",
        "\n",
        "# Fetch molecule from PubChem\n",
        "compound_name = \"Cimetidine\"\n",
        "compound = pcp.get_compounds(compound_name, 'name')[0]\n",
        "smiles = compound.canonical_smiles\n",
        "print(f\"SMILES for {compound_name}: {smiles}\")\n",
        "\n",
        "# Create and visualize the molecule\n",
        "molecule = Chem.MolFromSmiles(smiles)\n",
        "Draw.MolToImage(molecule)"
      ],
      "metadata": {
        "colab": {
          "base_uri": "https://localhost:8080/",
          "height": 334
        },
        "id": "0LoUu_SY6nGV",
        "outputId": "610aee54-a49d-4281-ffa4-10072d8d0577"
      },
      "execution_count": null,
      "outputs": [
        {
          "output_type": "stream",
          "name": "stdout",
          "text": [
            "SMILES for Cimetidine: CC1=C(N=CN1)CSCCNC(=NC)NC#N\n"
          ]
        },
        {
          "output_type": "execute_result",
          "data": {
            "text/plain": [
              "<PIL.PngImagePlugin.PngImageFile image mode=RGB size=300x300>"
            ],
            "image/png": "[encoded data removed]",
            "image/jpeg": "[encoded data removed]"
          },
          "metadata": {},
          "execution_count": 11
        }
      ]
    },
    {
      "cell_type": "code",
      "source": [
        "import pubchempy as pcp\n",
        "from rdkit import Chem\n",
        "from rdkit.Chem import Draw\n",
        "\n",
        "# Fetch molecule from PubChem\n",
        "compound_name = \"Taxol\"\n",
        "compound = pcp.get_compounds(compound_name, 'name')[0]\n",
        "smiles = compound.canonical_smiles\n",
        "print(f\"SMILES for {compound_name}: {smiles}\")\n",
        "\n",
        "# Create and visualize the molecule\n",
        "molecule = Chem.MolFromSmiles(smiles)\n",
        "Draw.MolToImage(molecule)"
      ],
      "metadata": {
        "colab": {
          "base_uri": "https://localhost:8080/",
          "height": 354
        },
        "id": "NYD1ddY06yiR",
        "outputId": "94574744-e073-428c-c616-8b903e0ab947"
      },
      "execution_count": null,
      "outputs": [
        {
          "output_type": "stream",
          "name": "stdout",
          "text": [
            "SMILES for Taxol: CC1=C2C(C(=O)C3(C(CC4C(C3C(C(C2(C)C)(CC1OC(=O)C(C(C5=CC=CC=C5)NC(=O)C6=CC=CC=C6)O)O)OC(=O)C7=CC=CC=C7)(CO4)OC(=O)C)O)C)OC(=O)C\n"
          ]
        },
        {
          "output_type": "execute_result",
          "data": {
            "text/plain": [
              "<PIL.PngImagePlugin.PngImageFile image mode=RGB size=300x300>"
            ],
            "image/png": "[encoded data removed]",
            "image/jpeg": "[encoded data removed]"
          },
          "metadata": {},
          "execution_count": 12
        }
      ]
    },
    {
      "cell_type": "code",
      "source": [
        "# Create a molecule\n",
        "smiles = \"CC(C)CC1=CC=C(C=C1)C(C)C(=O)O\"  # Ibuprofen\n",
        "molecule = Chem.MolFromSmiles(smiles)\n",
        "\n",
        "# Calculate properties for Lipinski's rule\n",
        "mol_weight = Descriptors.MolWt(molecule)\n",
        "log_p = Descriptors.MolLogP(molecule)\n",
        "hbd = Descriptors.NumHDonors(molecule)\n",
        "hba = Descriptors.NumHAcceptors(molecule)\n",
        "\n",
        "# Check Lipinski's rule\n",
        "print(f\"Molecular Weight: {mol_weight}\")\n",
        "print(f\"LogP: {log_p}\")\n",
        "print(f\"Hydrogen Bond Donors: {hbd}\")\n",
        "print(f\"Hydrogen Bond Acceptors: {hba}\")\n",
        "if mol_weight <= 500 and log_p <= 5 and hbd <= 5 and hba <= 10:\n",
        "    print(\"Passes Lipinski's Rule of Five\")\n",
        "else:\n",
        "    print(\"Does not pass Lipinski's Rule of Five\")"
      ],
      "metadata": {
        "colab": {
          "base_uri": "https://localhost:8080/"
        },
        "id": "Dj5gfXq564GT",
        "outputId": "b5e222ef-da33-4786-e502-36bb4b80a965"
      },
      "execution_count": null,
      "outputs": [
        {
          "output_type": "stream",
          "name": "stdout",
          "text": [
            "Molecular Weight: 206.28499999999997\n",
            "LogP: 3.073200000000001\n",
            "Hydrogen Bond Donors: 1\n",
            "Hydrogen Bond Acceptors: 1\n",
            "Passes Lipinski's Rule of Five\n"
          ]
        }
      ]
    },
    {
      "cell_type": "code",
      "source": [
        "# Create a molecule\n",
        "smiles = \"CC1=C2C(C(=O)C3(C(CC4C(C3C(C(C2(C)C)(CC1OC(=O)C(C(C5=CC=CC=C5)NC(=O)C6=CC=CC=C6)O)O)OC(=O)C7=CC=CC=C7)(CO4)OC(=O)C)O)C)OC(=O)C\"  # Ibuprofen\n",
        "molecule = Chem.MolFromSmiles(smiles)\n",
        "\n",
        "# Calculate properties for Lipinski's rule\n",
        "mol_weight = Descriptors.MolWt(molecule)\n",
        "log_p = Descriptors.MolLogP(molecule)\n",
        "hbd = Descriptors.NumHDonors(molecule)\n",
        "hba = Descriptors.NumHAcceptors(molecule)\n",
        "\n",
        "# Check Lipinski's rule\n",
        "print(f\"Molecular Weight: {mol_weight}\")\n",
        "print(f\"LogP: {log_p}\")\n",
        "print(f\"Hydrogen Bond Donors: {hbd}\")\n",
        "print(f\"Hydrogen Bond Acceptors: {hba}\")\n",
        "if mol_weight <= 500 and log_p <= 5 and hbd <= 5 and hba <= 10:\n",
        "    print(\"Passes Lipinski's Rule of Five\")\n",
        "else:\n",
        "    print(\"Does not pass Lipinski's Rule of Five\")"
      ],
      "metadata": {
        "colab": {
          "base_uri": "https://localhost:8080/"
        },
        "id": "Tx4MwVXa8NtR",
        "outputId": "5a9b26e6-2869-458e-8ab0-45b121b9f49a"
      },
      "execution_count": null,
      "outputs": [
        {
          "output_type": "stream",
          "name": "stdout",
          "text": [
            "Molecular Weight: 853.9180000000003\n",
            "LogP: 3.735700000000004\n",
            "Hydrogen Bond Donors: 4\n",
            "Hydrogen Bond Acceptors: 14\n",
            "Does not pass Lipinski's Rule of Five\n"
          ]
        }
      ]
    },
    {
      "cell_type": "code",
      "source": [
        "#Create a molecule\n",
        "smiles = \"CC1=C(N=CN1)CSCCNC(=NC)NC#N\"  # Cimetidine\n",
        "molecule = Chem.MolFromSmiles(smiles)\n",
        "\n",
        "# Calculate properties for Lipinski's rule\n",
        "mol_weight = Descriptors.MolWt(molecule)\n",
        "log_p = Descriptors.MolLogP(molecule)\n",
        "hbd = Descriptors.NumHDonors(molecule)\n",
        "hba = Descriptors.NumHAcceptors(molecule)\n",
        "\n",
        "# Check Lipinski's rule\n",
        "print(f\"Molecular Weight: {mol_weight}\")\n",
        "print(f\"LogP: {log_p}\")\n",
        "print(f\"Hydrogen Bond Donors: {hbd}\")\n",
        "print(f\"Hydrogen Bond Acceptors: {hba}\")\n",
        "if mol_weight <= 500 and log_p <= 5 and hbd <= 5 and hba <= 10:\n",
        "    print(\"Passes Lipinski's Rule of Five\")\n",
        "else:\n",
        "    print(\"Does not pass Lipinski's Rule of Five\")"
      ],
      "metadata": {
        "colab": {
          "base_uri": "https://localhost:8080/"
        },
        "id": "diSEFMFy8gzA",
        "outputId": "cd97752f-164f-4c4c-da4a-6756885e7c2b"
      },
      "execution_count": null,
      "outputs": [
        {
          "output_type": "stream",
          "name": "stdout",
          "text": [
            "Molecular Weight: 252.347\n",
            "LogP: 0.5973999999999998\n",
            "Hydrogen Bond Donors: 3\n",
            "Hydrogen Bond Acceptors: 4\n",
            "Passes Lipinski's Rule of Five\n"
          ]
        }
      ]
    },
    {
      "cell_type": "code",
      "source": [
        "import pubchempy as pcp\n",
        "\n",
        "# List of compound names\n",
        "compound_names = [\"Aspirin\", \"Caffeine\", \"Ibuprofen\", \"Paracetamol\",\n",
        "                  \"Acetone\", \"Ethanol\", \"Glucose\", \"Methanol\",\n",
        "                  \"Phenol\", \"Benzene\"]\n",
        "\n",
        "# Fetch data from PubChem\n",
        "compounds = []\n",
        "for name in compound_names:\n",
        "    compound = pcp.get_compounds(name, 'name')[0]  # Fetch the first match\n",
        "    compounds.append({\"Name\": name, \"SMILES\": compound.canonical_smiles})\n",
        "\n",
        "print(\"Fetched compound data:\")\n",
        "for compound in compounds:\n",
        "    print(f\"{compound['Name']}: {compound['SMILES']}\")"
      ],
      "metadata": {
        "colab": {
          "base_uri": "https://localhost:8080/"
        },
        "id": "x2KN-Kar8vi6",
        "outputId": "40d8386b-3e3e-4fac-fe37-3243f4d1f536"
      },
      "execution_count": null,
      "outputs": [
        {
          "output_type": "stream",
          "name": "stdout",
          "text": [
            "Fetched compound data:\n",
            "Aspirin: CC(=O)OC1=CC=CC=C1C(=O)O\n",
            "Caffeine: CN1C=NC2=C1C(=O)N(C(=O)N2C)C\n",
            "Ibuprofen: CC(C)CC1=CC=C(C=C1)C(C)C(=O)O\n",
            "Paracetamol: CC(=O)NC1=CC=C(C=C1)O\n",
            "Acetone: CC(=O)C\n",
            "Ethanol: CCO\n",
            "Glucose: C(C1C(C(C(C(O1)O)O)O)O)O\n",
            "Methanol: CO\n",
            "Phenol: C1=CC=C(C=C1)O\n",
            "Benzene: C1=CC=CC=C1\n"
          ]
        }
      ]
    },
    {
      "cell_type": "code",
      "source": [
        "# Function to calculate properties and Lipinski's Rule\n",
        "def calculate_properties(smiles):\n",
        "    molecule = Chem.MolFromSmiles(smiles)\n",
        "    if not molecule:\n",
        "        return None  # Return None for invalid SMILES\n",
        "\n",
        "    properties = {\n",
        "        \"Molecular Weight\": Descriptors.MolWt(molecule),\n",
        "        \"LogP\": Descriptors.MolLogP(molecule),\n",
        "        \"H-Bond Donors\": Descriptors.NumHDonors(molecule),\n",
        "        \"H-Bond Acceptors\": Descriptors.NumHAcceptors(molecule)\n",
        "    }\n",
        "\n",
        "    # Lipinski's Rule\n",
        "    satisfies_lipinski = (\n",
        "        properties[\"Molecular Weight\"] <= 500 and\n",
        "        properties[\"LogP\"] <= 5 and\n",
        "        properties[\"H-Bond Donors\"] <= 5 and\n",
        "        properties[\"H-Bond Acceptors\"] <= 10\n",
        "    )\n",
        "\n",
        "    properties[\"Lipinski\"] = satisfies_lipinski\n",
        "    return properties\n",
        "\n",
        "# Add properties to each compound\n",
        "for compound in compounds:\n",
        "    properties = calculate_properties(compound[\"SMILES\"])\n",
        "    compound[\"Properties\"] = properties"
      ],
      "metadata": {
        "id": "mfNzOMO99Nb3"
      },
      "execution_count": null,
      "outputs": []
    },
    {
      "cell_type": "code",
      "source": [
        "# Filter compounds satisfying Lipinski's Rule\n",
        "filtered_compounds = [comp for comp in compounds if comp[\"Properties\"][\"Lipinski\"]]\n",
        "\n",
        "print(\"\\nCompounds satisfying Lipinski's Rule:\")\n",
        "for compound in filtered_compounds:\n",
        "    print(f\"{compound['Name']} satisfies Lipinski's Rule\")"
      ],
      "metadata": {
        "colab": {
          "base_uri": "https://localhost:8080/"
        },
        "id": "xbfF9oKY92Jw",
        "outputId": "7d34e635-874b-44d3-8de7-1847f9f1fe1d"
      },
      "execution_count": null,
      "outputs": [
        {
          "output_type": "stream",
          "name": "stdout",
          "text": [
            "\n",
            "Compounds satisfying Lipinski's Rule:\n",
            "Aspirin satisfies Lipinski's Rule\n",
            "Caffeine satisfies Lipinski's Rule\n",
            "Ibuprofen satisfies Lipinski's Rule\n",
            "Paracetamol satisfies Lipinski's Rule\n",
            "Acetone satisfies Lipinski's Rule\n",
            "Ethanol satisfies Lipinski's Rule\n",
            "Glucose satisfies Lipinski's Rule\n",
            "Methanol satisfies Lipinski's Rule\n",
            "Phenol satisfies Lipinski's Rule\n",
            "Benzene satisfies Lipinski's Rule\n"
          ]
        }
      ]
    },
    {
      "cell_type": "code",
      "source": [
        "import pubchempy as pcp\n",
        "\n",
        "# List of compound names\n",
        "compound_names = [\"Aspirin\", \"Caffeine\", \"Ibuprofen\", \"Paracetamol\",\n",
        "                  \"Acetone\", \"Ethanol\", \"Glucose\", \"Methanol\",\n",
        "                  \"Phenol\", \"Taxol\"]\n",
        "\n",
        "# Fetch data from PubChem\n",
        "compounds = []\n",
        "for name in compound_names:\n",
        "    compound = pcp.get_compounds(name, 'name')[0]  # Fetch the first match\n",
        "    compounds.append({\"Name\": name, \"SMILES\": compound.canonical_smiles})\n",
        "\n",
        "print(\"Fetched compound data:\")\n",
        "for compound in compounds:\n",
        "    print(f\"{compound['Name']}: {compound['SMILES']}\")"
      ],
      "metadata": {
        "colab": {
          "base_uri": "https://localhost:8080/"
        },
        "id": "KPoEx6NJ-K8Z",
        "outputId": "606fa6b0-f072-4afa-e0f7-e86e0c70dcac"
      },
      "execution_count": null,
      "outputs": [
        {
          "output_type": "stream",
          "name": "stdout",
          "text": [
            "Fetched compound data:\n",
            "Aspirin: CC(=O)OC1=CC=CC=C1C(=O)O\n",
            "Caffeine: CN1C=NC2=C1C(=O)N(C(=O)N2C)C\n",
            "Ibuprofen: CC(C)CC1=CC=C(C=C1)C(C)C(=O)O\n",
            "Paracetamol: CC(=O)NC1=CC=C(C=C1)O\n",
            "Acetone: CC(=O)C\n",
            "Ethanol: CCO\n",
            "Glucose: C(C1C(C(C(C(O1)O)O)O)O)O\n",
            "Methanol: CO\n",
            "Phenol: C1=CC=C(C=C1)O\n",
            "Taxol: CC1=C2C(C(=O)C3(C(CC4C(C3C(C(C2(C)C)(CC1OC(=O)C(C(C5=CC=CC=C5)NC(=O)C6=CC=CC=C6)O)O)OC(=O)C7=CC=CC=C7)(CO4)OC(=O)C)O)C)OC(=O)C\n"
          ]
        }
      ]
    },
    {
      "cell_type": "code",
      "source": [],
      "metadata": {
        "id": "FqIvdvxX-m15"
      },
      "execution_count": null,
      "outputs": []
    }
  ]
}